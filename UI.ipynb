{
 "cells": [
  {
   "cell_type": "code",
   "execution_count": 1,
   "id": "abd1fa99-7f5d-4a4b-a84e-a04d815769ba",
   "metadata": {},
   "outputs": [
    {
     "name": "stderr",
     "output_type": "stream",
     "text": [
      "C:\\Users\\pc\\AppData\\Local\\Programs\\Python\\Python311\\Lib\\site-packages\\tqdm\\auto.py:21: TqdmWarning: IProgress not found. Please update jupyter and ipywidgets. See https://ipywidgets.readthedocs.io/en/stable/user_install.html\n",
      "  from .autonotebook import tqdm as notebook_tqdm\n"
     ]
    }
   ],
   "source": [
    "import gradio as gr\n",
    "import joblib\n",
    "import numpy as np"
   ]
  },
  {
   "cell_type": "code",
   "execution_count": 2,
   "id": "5d95902a-80eb-4c30-af8d-df862354c22b",
   "metadata": {},
   "outputs": [
    {
     "name": "stdout",
     "output_type": "stream",
     "text": [
      "Running on local URL:  http://127.0.0.1:7860\n",
      "\n",
      "To create a public link, set `share=True` in `launch()`.\n"
     ]
    },
    {
     "name": "stderr",
     "output_type": "stream",
     "text": [
      "C:\\Users\\pc\\AppData\\Local\\Programs\\Python\\Python311\\Lib\\site-packages\\gradio\\analytics.py:106: UserWarning: IMPORTANT: You are using gradio version 4.44.0, however version 4.44.1 is available, please upgrade. \n",
      "--------\n",
      "  warnings.warn(\n"
     ]
    },
    {
     "data": {
      "text/html": [
       "<div><iframe src=\"http://127.0.0.1:7860/\" width=\"100%\" height=\"500\" allow=\"autoplay; camera; microphone; clipboard-read; clipboard-write;\" frameborder=\"0\" allowfullscreen></iframe></div>"
      ],
      "text/plain": [
       "<IPython.core.display.HTML object>"
      ]
     },
     "metadata": {},
     "output_type": "display_data"
    },
    {
     "data": {
      "text/plain": []
     },
     "execution_count": 2,
     "metadata": {},
     "output_type": "execute_result"
    },
    {
     "name": "stderr",
     "output_type": "stream",
     "text": [
      "C:\\Users\\pc\\AppData\\Local\\Programs\\Python\\Python311\\Lib\\site-packages\\sklearn\\base.py:493: UserWarning: X does not have valid feature names, but StandardScaler was fitted with feature names\n",
      "  warnings.warn(\n"
     ]
    }
   ],
   "source": [
    "model = joblib.load(\"logistic_model.pkl\")\n",
    "scaler = joblib.load(\"scaler.pkl\")\n",
    "\n",
    "def predict(mean_texture, mean_area, mean_smoothness, mean_compactness, mean_concavity, mean_symmetry, mean_fractal_dimension):\n",
    "  x = np.array([[mean_texture, mean_area, mean_smoothness, mean_compactness, mean_concavity, mean_symmetry, mean_fractal_dimension]])\n",
    "  x = scaler.transform(x)\n",
    "  proba = model.predict_proba(x)[0]\n",
    "  return {\n",
    "      \"Malignant\" : round(proba[0], 2),\n",
    "      \"Benign\" : round(proba[1], 2)\n",
    "  }\n",
    "\n",
    "inputs = [\n",
    "    gr.Slider(minimum=9.71, maximum=39.28, value=19.3, label=\"Mean Texture\"),\n",
    "    gr.Slider(minimum=143.5, maximum=2501, value=655, label=\"Mean Area\"),\n",
    "    gr.Slider(minimum=0.053, maximum=0.16340, value=0.0964, label=\"Mean Smoothness\"),\n",
    "    gr.Slider(minimum=0.01938, maximum=0.34540, value=0.104341, label=\"Mean Compactness\"),\n",
    "    gr.Slider(minimum=0, maximum=0.42680, value=0.088799, label=\"Mean Concavity\"),\n",
    "    gr.Slider(minimum=0.106, maximum=0.304, value=0.181162, label=\"Mean Symmetry\"),\n",
    "    gr.Slider(minimum=0.04996, maximum=0.09744, value=0.062798, label=\"Mean Fractal Dimension\")\n",
    "]\n",
    "\n",
    "outputs = gr.Label(num_top_classes=2)\n",
    "\n",
    "demo = gr.Interface(\n",
    "    fn=predict,\n",
    "    inputs=inputs,\n",
    "    outputs=outputs,\n",
    "    title=\"Breast Cancer Classifier\"\n",
    ")\n",
    "demo.launch()"
   ]
  },
  {
   "cell_type": "code",
   "execution_count": null,
   "id": "991289fa-93bc-4b54-8436-17e82f946923",
   "metadata": {},
   "outputs": [],
   "source": []
  }
 ],
 "metadata": {
  "kernelspec": {
   "display_name": "Python 3 (ipykernel)",
   "language": "python",
   "name": "python3"
  },
  "language_info": {
   "codemirror_mode": {
    "name": "ipython",
    "version": 3
   },
   "file_extension": ".py",
   "mimetype": "text/x-python",
   "name": "python",
   "nbconvert_exporter": "python",
   "pygments_lexer": "ipython3",
   "version": "3.11.0"
  }
 },
 "nbformat": 4,
 "nbformat_minor": 5
}
